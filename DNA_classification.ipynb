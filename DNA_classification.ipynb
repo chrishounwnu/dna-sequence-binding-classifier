{
  "cells": [
    {
      "cell_type": "markdown",
      "metadata": {
        "id": "QEqkGUiiMIBE"
      },
      "source": [
        "## Library Imports\n",
        "All necessary libraries for data handling, modeling, training, and evaluation are imported here."
      ]
    },
    {
      "cell_type": "code",
      "execution_count": 5,
      "metadata": {
        "id": "T5t1oILd_jUs"
      },
      "outputs": [],
      "source": [
        "import pandas as pd\n",
        "import numpy as np\n",
        "import matplotlib.pyplot as plt\n",
        "import seaborn as sns\n",
        "import os\n",
        "import torch\n",
        "import torch.nn as nn\n",
        "from tqdm import tqdm\n",
        "from torch.utils.data import TensorDataset, DataLoader, Dataset, random_split\n",
        "from sklearn.model_selection import train_test_split\n",
        "from sklearn.metrics import accuracy_score\n",
        "from sklearn.preprocessing import StandardScaler"
      ]
    },
    {
      "cell_type": "markdown",
      "metadata": {
        "id": "f6zi2SVRMSBM"
      },
      "source": [
        "## Load and Explore Data\n",
        "Load the training and test datasets, check dimensions, visualize class distribution, and preview a sample sequence.\n"
      ]
    },
    {
      "cell_type": "code",
      "execution_count": 6,
      "metadata": {
        "colab": {
          "base_uri": "https://localhost:8080/",
          "height": 571
        },
        "id": "DdjJqHy50Io3",
        "outputId": "96115542-8dd1-4df2-f1d5-705ff9d934a6"
      },
      "outputs": [
        {
          "name": "stdout",
          "output_type": "stream",
          "text": [
            "Xtr shape: (2000, 2)\n",
            "Ytr shape: (2000, 2)\n",
            "Xte shape: (1000, 2)\n",
            "\n",
            "Sample sequence from Xtr:\n",
            "0\n"
          ]
        },
        {
          "data": {
            "image/png": "[encoded data removed]",
            "text/plain": [
              "<Figure size 640x480 with 1 Axes>"
            ]
          },
          "metadata": {},
          "output_type": "display_data"
        }
      ],
      "source": [
        "data_path = \"/content/df\"\n",
        "Xtr = pd.read_csv(os.path.join(data_path, \"Xtr.csv\"))\n",
        "Xte = pd.read_csv(os.path.join(data_path, \"Xte.csv\"))\n",
        "Ytr = pd.read_csv(os.path.join(data_path, \"Ytr.csv\"))\n",
        "Xtr_mat = pd.read_csv(os.path.join(data_path, \"Xtr_mat100.csv\"), sep='\\s+', header=None)\n",
        "Xte_mat = pd.read_csv(os.path.join(data_path, \"Xte_mat100.csv\"), sep='\\s+', header=None)\n",
        "\n",
        "# quick data check\n",
        "print(\"Xtr shape:\", Xtr.shape)\n",
        "print(\"Ytr shape:\", Ytr.shape)\n",
        "print(\"Xte shape:\", Xte.shape)\n",
        "\n",
        "print(\"\\nSample sequence from Xtr:\")\n",
        "print(Xtr.iloc[0, 0])\n",
        "\n",
        "# Check class distribution\n",
        "Ytr['Bound'].value_counts().plot(kind='bar', title='Class Distribution')\n",
        "plt.xlabel('Label')\n",
        "plt.ylabel('Count')\n",
        "plt.grid()\n",
        "plt.show()"
      ]
    },
    {
      "cell_type": "markdown",
      "metadata": {
        "id": "HXcA0D7sCRUJ"
      },
      "source": [
        "## One-Hot Encoding of DNA Sequences\n",
        "Transform DNA sequences into one-hot encoded tensors and prepare cluster-based features for training and testing.\n"
      ]
    },
    {
      "cell_type": "code",
      "execution_count": 8,
      "metadata": {
        "colab": {
          "base_uri": "https://localhost:8080/"
        },
        "id": "Gds6chzK0NsY",
        "outputId": "61d26d87-8e0f-4062-b6e7-cb527bb18041"
      },
      "outputs": [
        {
          "name": "stdout",
          "output_type": "stream",
          "text": [
            "Data loaded and encoded.\n",
            "X_seq shape: (2000, 4, 101)\n",
            "X_test_seq shape: (1000, 4, 101)\n",
            "X_seq_tensor shape: torch.Size([2000, 4, 101])\n",
            "X_cluster_tensor shape: torch.Size([2000, 100])\n"
          ]
        }
      ],
      "source": [
        "def one_hot_encode_seq(seq, maxlen=101):\n",
        "    mapping = {'A': 0, 'C': 1, 'G': 2, 'T': 3}\n",
        "    one_hot = np.zeros((4, maxlen), dtype=np.float32)\n",
        "    for i, char in enumerate(seq):\n",
        "        if char in mapping:\n",
        "            one_hot[mapping[char], i] = 1.0\n",
        "    return one_hot\n",
        "\n",
        "X_seq = np.stack([one_hot_encode_seq(seq) for seq in Xtr[\"seq\"]])\n",
        "X_test_seq = np.stack([one_hot_encode_seq(seq) for seq in Xte[\"seq\"]])\n",
        "\n",
        "X_seq_tensor = torch.tensor(X_seq, dtype=torch.float32)\n",
        "X_test_seq_tensor = torch.tensor(X_test_seq, dtype=torch.float32)\n",
        "y_tensor = torch.tensor(Ytr[\"Bound\"].values, dtype=torch.float32)\n",
        "\n",
        "X_cluster_tensor = torch.tensor(Xtr_mat.values, dtype=torch.float32)\n",
        "X_test_cluster_tensor = torch.tensor(Xte_mat.values, dtype=torch.float32)\n",
        "\n",
        "print(\"Data loaded and encoded.\")\n",
        "print(\"X_seq shape:\", X_seq.shape)\n",
        "print(\"X_test_seq shape:\", X_test_seq.shape)\n",
        "print(f\"X_seq_tensor shape: {X_seq_tensor.shape}\")\n",
        "print(f\"X_cluster_tensor shape: {X_cluster_tensor.shape}\")"
      ]
    },
    {
      "cell_type": "markdown",
      "metadata": {
        "id": "3V9pUAgMC4hI"
      },
      "source": [
        "## Model Architecture Definitions\n"
      ]
    },
    {
      "cell_type": "code",
      "execution_count": 22,
      "metadata": {
        "id": "_SxgK-67Cqff"
      },
      "outputs": [],
      "source": [
        "# Define models\n",
        "class CNNKMeansFusion(nn.Module):\n",
        "    def __init__(self):\n",
        "        super().__init__()\n",
        "        self.cnn = nn.Sequential(\n",
        "            nn.Conv1d(4, 128, kernel_size=9, padding=4),\n",
        "            nn.BatchNorm1d(128),\n",
        "            nn.ReLU(),\n",
        "            nn.Conv1d(128, 256, kernel_size=15, padding=7),\n",
        "            nn.BatchNorm1d(256),\n",
        "            nn.ReLU(),\n",
        "            nn.AdaptiveMaxPool1d(1),\n",
        "            nn.Flatten()\n",
        "        )\n",
        "        self.mlp = nn.Sequential(\n",
        "            nn.Linear(256 + 50, 256),\n",
        "            nn.ReLU(),\n",
        "            nn.Dropout(0.4),\n",
        "            nn.Linear(256, 128),\n",
        "            nn.ReLU(),\n",
        "            nn.Dropout(0.3),\n",
        "            nn.Linear(128, 1),\n",
        "            nn.Sigmoid()\n",
        "        )\n",
        "\n",
        "    def forward(self, x_seq, x_clust):\n",
        "        x_cnn = self.cnn(x_seq)\n",
        "        x_concat = torch.cat([x_cnn, x_clust], dim=1)\n",
        "        return self.mlp(x_concat)\n",
        "\n",
        "class CNNOnlyV2(nn.Module):\n",
        "    def __init__(self):\n",
        "        super().__init__()\n",
        "\n",
        "        self.conv_block = nn.Sequential(\n",
        "            nn.Conv1d(4, 128, kernel_size=7, padding=3),\n",
        "            nn.BatchNorm1d(128),\n",
        "            nn.ReLU(),\n",
        "\n",
        "            nn.Conv1d(128, 256, kernel_size=11, padding=5),\n",
        "            nn.BatchNorm1d(256),\n",
        "            nn.ReLU(),\n",
        "\n",
        "            nn.Conv1d(256, 256, kernel_size=15, padding=7),\n",
        "            nn.BatchNorm1d(256),\n",
        "            nn.ReLU(),\n",
        "\n",
        "            nn.AdaptiveMaxPool1d(1),\n",
        "            nn.Flatten()\n",
        "        )\n",
        "\n",
        "        self.classifier = nn.Sequential(\n",
        "            nn.Linear(256, 128),\n",
        "            nn.ReLU(),\n",
        "            nn.Dropout(0.4),\n",
        "\n",
        "            nn.Linear(128, 64),\n",
        "            nn.ReLU(),\n",
        "            nn.Dropout(0.3),\n",
        "\n",
        "            nn.Linear(64, 1),\n",
        "            nn.Sigmoid()\n",
        "        )\n",
        "\n",
        "    def forward(self, x):\n",
        "        x = self.conv_block(x)\n",
        "        return self.classifier(x)\n",
        "\n",
        "# Instantiate models\n",
        "model1 = CNNKMeansFusion()\n",
        "model2 = CNNOnlyV2()"
      ]
    },
    {
      "cell_type": "markdown",
      "metadata": {
        "id": "gTeOtOZgDVBw"
      },
      "source": [
        "## Data Preprocessing & Custom Dataset Definition\n"
      ]
    },
    {
      "cell_type": "code",
      "execution_count": 15,
      "metadata": {
        "id": "yvboFwPR02zl"
      },
      "outputs": [],
      "source": [
        "# truncate first\n",
        "X_cluster_tensor = X_cluster_tensor[:, :50]\n",
        "X_test_cluster_tensor = X_test_cluster_tensor[:, :50]\n",
        "\n",
        "# then normalize\n",
        "scaler = StandardScaler()\n",
        "X_cluster = scaler.fit_transform(X_cluster_tensor)\n",
        "X_test_cluster = scaler.transform(X_test_cluster_tensor)\n",
        "\n",
        "X_cluster_tensor = torch.tensor(X_cluster, dtype=torch.float32)\n",
        "X_test_cluster_tensor = torch.tensor(X_test_cluster, dtype=torch.float32)\n",
        "\n",
        "# train/validation split\n",
        "X_seq_train, X_seq_val, X_clust_train, X_clust_val, y_train, y_val = train_test_split(\n",
        "    X_seq_tensor, X_cluster_tensor, y_tensor, test_size=0.2, random_state=42)\n",
        "\n",
        "## Custom dataset for dual-input (sequence + cluster) models\n",
        "class DualInputDataset(Dataset):\n",
        "    def __init__(self, seq_tensor, clust_tensor, labels):\n",
        "        self.seq = seq_tensor\n",
        "        self.clust = clust_tensor\n",
        "        self.labels = labels\n",
        "\n",
        "    def __getitem__(self, idx):\n",
        "        return self.seq[idx], self.clust[idx], self.labels[idx]\n",
        "\n",
        "    def __len__(self):\n",
        "        return len(self.labels)\n",
        "\n",
        "# DataLoaders\n",
        "train_dataset = DualInputDataset(X_seq_train, X_clust_train, y_train)\n",
        "val_dataset = DualInputDataset(X_seq_val, X_clust_val, y_val)\n",
        "\n",
        "train_loader = DataLoader(train_dataset, batch_size=32, shuffle=True)\n",
        "val_loader = DataLoader(val_dataset, batch_size=32)"
      ]
    },
    {
      "cell_type": "markdown",
      "metadata": {
        "id": "A18LgTIrDoUj"
      },
      "source": [
        "## Model Training: Loss, Accuracy & Training Loop\n"
      ]
    },
    {
      "cell_type": "code",
      "execution_count": 13,
      "metadata": {
        "colab": {
          "base_uri": "https://localhost:8080/"
        },
        "id": "IJouezp31Nm_",
        "outputId": "0e3e98b6-867d-4e50-992b-bd9efdd278e9"
      },
      "outputs": [
        {
          "name": "stdout",
          "output_type": "stream",
          "text": [
            "Training CNN+KMeans model...\n",
            "[cnn_kmeans] Epoch 01 - Loss: 0.7131 - Val Accuracy: 0.4775 - Best: 0.4775\n",
            "[cnn_kmeans] Epoch 02 - Loss: 0.6503 - Val Accuracy: 0.6650 - Best: 0.6650\n",
            "[cnn_kmeans] Epoch 03 - Loss: 0.5554 - Val Accuracy: 0.6975 - Best: 0.6975\n",
            "[cnn_kmeans] Epoch 04 - Loss: 0.4744 - Val Accuracy: 0.6700 - Best: 0.6975\n",
            "[cnn_kmeans] Epoch 05 - Loss: 0.4069 - Val Accuracy: 0.7075 - Best: 0.7075\n",
            "[cnn_kmeans] Epoch 06 - Loss: 0.3123 - Val Accuracy: 0.7000 - Best: 0.7075\n",
            "[cnn_kmeans] Epoch 07 - Loss: 0.1817 - Val Accuracy: 0.6350 - Best: 0.7075\n",
            "[cnn_kmeans] Epoch 08 - Loss: 0.1448 - Val Accuracy: 0.6725 - Best: 0.7075\n",
            "[cnn_kmeans] Epoch 09 - Loss: 0.1431 - Val Accuracy: 0.6900 - Best: 0.7075\n",
            "[cnn_kmeans] Epoch 10 - Loss: 0.2202 - Val Accuracy: 0.6800 - Best: 0.7075\n",
            "[cnn_kmeans] Epoch 11 - Loss: 0.1267 - Val Accuracy: 0.6975 - Best: 0.7075\n",
            "[cnn_kmeans] Epoch 12 - Loss: 0.0718 - Val Accuracy: 0.6950 - Best: 0.7075\n",
            "[cnn_kmeans] Epoch 13 - Loss: 0.0827 - Val Accuracy: 0.6675 - Best: 0.7075\n",
            "[cnn_kmeans] Epoch 14 - Loss: 0.2463 - Val Accuracy: 0.7000 - Best: 0.7075\n",
            "[cnn_kmeans] Epoch 15 - Loss: 0.1365 - Val Accuracy: 0.6975 - Best: 0.7075\n",
            "[cnn_kmeans] Epoch 16 - Loss: 0.1248 - Val Accuracy: 0.7175 - Best: 0.7175\n",
            "[cnn_kmeans] Epoch 17 - Loss: 0.0928 - Val Accuracy: 0.7125 - Best: 0.7175\n",
            "[cnn_kmeans] Epoch 18 - Loss: 0.0884 - Val Accuracy: 0.7050 - Best: 0.7175\n",
            "[cnn_kmeans] Epoch 19 - Loss: 0.0843 - Val Accuracy: 0.7075 - Best: 0.7175\n",
            "[cnn_kmeans] Epoch 20 - Loss: 0.0630 - Val Accuracy: 0.7150 - Best: 0.7175\n",
            "[cnn_kmeans] Epoch 21 - Loss: 0.0898 - Val Accuracy: 0.7050 - Best: 0.7175\n",
            "[cnn_kmeans] Epoch 22 - Loss: 0.1563 - Val Accuracy: 0.6575 - Best: 0.7175\n",
            "[cnn_kmeans] Epoch 23 - Loss: 0.1917 - Val Accuracy: 0.6975 - Best: 0.7175\n",
            "[cnn_kmeans] Epoch 24 - Loss: 0.1043 - Val Accuracy: 0.6900 - Best: 0.7175\n",
            "[cnn_kmeans] Epoch 25 - Loss: 0.0891 - Val Accuracy: 0.6925 - Best: 0.7175\n",
            "[cnn_kmeans] Epoch 26 - Loss: 0.1058 - Val Accuracy: 0.6750 - Best: 0.7175\n",
            "[cnn_kmeans] Epoch 27 - Loss: 0.0750 - Val Accuracy: 0.6650 - Best: 0.7175\n",
            "[cnn_kmeans] Epoch 28 - Loss: 0.1186 - Val Accuracy: 0.6850 - Best: 0.7175\n",
            "[cnn_kmeans] Epoch 29 - Loss: 0.1564 - Val Accuracy: 0.7000 - Best: 0.7175\n",
            "[cnn_kmeans] Epoch 30 - Loss: 0.1388 - Val Accuracy: 0.6925 - Best: 0.7175\n",
            "[cnn_kmeans] Epoch 31 - Loss: 0.0992 - Val Accuracy: 0.6975 - Best: 0.7175\n",
            "[cnn_kmeans] Epoch 32 - Loss: 0.1022 - Val Accuracy: 0.6875 - Best: 0.7175\n",
            "[cnn_kmeans] Epoch 33 - Loss: 0.0676 - Val Accuracy: 0.7075 - Best: 0.7175\n",
            "[cnn_kmeans] Epoch 34 - Loss: 0.0824 - Val Accuracy: 0.6875 - Best: 0.7175\n",
            "[cnn_kmeans] Epoch 35 - Loss: 0.0670 - Val Accuracy: 0.7000 - Best: 0.7175\n",
            "[cnn_kmeans] Epoch 36 - Loss: 0.0703 - Val Accuracy: 0.7075 - Best: 0.7175\n",
            "[cnn_kmeans] Epoch 37 - Loss: 0.0824 - Val Accuracy: 0.7075 - Best: 0.7175\n",
            "[cnn_kmeans] Epoch 38 - Loss: 0.0714 - Val Accuracy: 0.6750 - Best: 0.7175\n",
            "[cnn_kmeans] Epoch 39 - Loss: 0.0718 - Val Accuracy: 0.7025 - Best: 0.7175\n",
            "[cnn_kmeans] Epoch 40 - Loss: 0.1303 - Val Accuracy: 0.6700 - Best: 0.7175\n",
            "[cnn_kmeans] Epoch 41 - Loss: 0.1447 - Val Accuracy: 0.6625 - Best: 0.7175\n",
            "[cnn_kmeans] Epoch 42 - Loss: 0.1025 - Val Accuracy: 0.6675 - Best: 0.7175\n",
            "[cnn_kmeans] Epoch 43 - Loss: 0.0730 - Val Accuracy: 0.6350 - Best: 0.7175\n",
            "[cnn_kmeans] Epoch 44 - Loss: 0.0979 - Val Accuracy: 0.6825 - Best: 0.7175\n",
            "[cnn_kmeans] Epoch 45 - Loss: 0.0630 - Val Accuracy: 0.6925 - Best: 0.7175\n",
            "[cnn_kmeans] Epoch 46 - Loss: 0.0899 - Val Accuracy: 0.6925 - Best: 0.7175\n",
            "[cnn_kmeans] Epoch 47 - Loss: 0.0857 - Val Accuracy: 0.7100 - Best: 0.7175\n",
            "[cnn_kmeans] Epoch 48 - Loss: 0.0781 - Val Accuracy: 0.6500 - Best: 0.7175\n",
            "[cnn_kmeans] Epoch 49 - Loss: 0.0720 - Val Accuracy: 0.6900 - Best: 0.7175\n",
            "[cnn_kmeans] Epoch 50 - Loss: 0.0656 - Val Accuracy: 0.6950 - Best: 0.7175\n",
            "\n",
            "Training CNNOnly model...\n",
            "[cnn_only] Epoch 01 - Loss: 0.7264 - Val Accuracy: 0.5225 - Best: 0.5225\n",
            "[cnn_only] Epoch 02 - Loss: 0.6979 - Val Accuracy: 0.5400 - Best: 0.5400\n",
            "[cnn_only] Epoch 03 - Loss: 0.6903 - Val Accuracy: 0.5025 - Best: 0.5400\n",
            "[cnn_only] Epoch 04 - Loss: 0.6406 - Val Accuracy: 0.6625 - Best: 0.6625\n",
            "[cnn_only] Epoch 05 - Loss: 0.6198 - Val Accuracy: 0.6875 - Best: 0.6875\n",
            "[cnn_only] Epoch 06 - Loss: 0.5877 - Val Accuracy: 0.6325 - Best: 0.6875\n",
            "[cnn_only] Epoch 07 - Loss: 0.5646 - Val Accuracy: 0.7100 - Best: 0.7100\n",
            "[cnn_only] Epoch 08 - Loss: 0.5474 - Val Accuracy: 0.7125 - Best: 0.7125\n",
            "[cnn_only] Epoch 09 - Loss: 0.5348 - Val Accuracy: 0.6675 - Best: 0.7125\n",
            "[cnn_only] Epoch 10 - Loss: 0.4924 - Val Accuracy: 0.6875 - Best: 0.7125\n",
            "[cnn_only] Epoch 11 - Loss: 0.4647 - Val Accuracy: 0.6550 - Best: 0.7125\n",
            "[cnn_only] Epoch 12 - Loss: 0.4009 - Val Accuracy: 0.6825 - Best: 0.7125\n",
            "[cnn_only] Epoch 13 - Loss: 0.4225 - Val Accuracy: 0.7025 - Best: 0.7125\n",
            "[cnn_only] Epoch 14 - Loss: 0.3894 - Val Accuracy: 0.6950 - Best: 0.7125\n",
            "[cnn_only] Epoch 15 - Loss: 0.3471 - Val Accuracy: 0.7225 - Best: 0.7225\n",
            "[cnn_only] Epoch 16 - Loss: 0.3508 - Val Accuracy: 0.6850 - Best: 0.7225\n",
            "[cnn_only] Epoch 17 - Loss: 0.3274 - Val Accuracy: 0.6875 - Best: 0.7225\n",
            "[cnn_only] Epoch 18 - Loss: 0.3268 - Val Accuracy: 0.6925 - Best: 0.7225\n",
            "[cnn_only] Epoch 19 - Loss: 0.3094 - Val Accuracy: 0.6900 - Best: 0.7225\n",
            "[cnn_only] Epoch 20 - Loss: 0.3056 - Val Accuracy: 0.7050 - Best: 0.7225\n",
            "[cnn_only] Epoch 21 - Loss: 0.2999 - Val Accuracy: 0.7075 - Best: 0.7225\n",
            "[cnn_only] Epoch 22 - Loss: 0.3138 - Val Accuracy: 0.6525 - Best: 0.7225\n",
            "[cnn_only] Epoch 23 - Loss: 0.2826 - Val Accuracy: 0.6775 - Best: 0.7225\n",
            "[cnn_only] Epoch 24 - Loss: 0.3008 - Val Accuracy: 0.6525 - Best: 0.7225\n",
            "[cnn_only] Epoch 25 - Loss: 0.3127 - Val Accuracy: 0.7025 - Best: 0.7225\n",
            "[cnn_only] Epoch 26 - Loss: 0.2775 - Val Accuracy: 0.6475 - Best: 0.7225\n",
            "[cnn_only] Epoch 27 - Loss: 0.3128 - Val Accuracy: 0.6675 - Best: 0.7225\n",
            "[cnn_only] Epoch 28 - Loss: 0.3014 - Val Accuracy: 0.6725 - Best: 0.7225\n",
            "[cnn_only] Epoch 29 - Loss: 0.3084 - Val Accuracy: 0.6900 - Best: 0.7225\n",
            "[cnn_only] Epoch 30 - Loss: 0.2915 - Val Accuracy: 0.6975 - Best: 0.7225\n",
            "[cnn_only] Epoch 31 - Loss: 0.2996 - Val Accuracy: 0.6725 - Best: 0.7225\n",
            "[cnn_only] Epoch 32 - Loss: 0.2984 - Val Accuracy: 0.6650 - Best: 0.7225\n",
            "[cnn_only] Epoch 33 - Loss: 0.3230 - Val Accuracy: 0.7200 - Best: 0.7225\n",
            "[cnn_only] Epoch 34 - Loss: 0.3263 - Val Accuracy: 0.6850 - Best: 0.7225\n",
            "[cnn_only] Epoch 35 - Loss: 0.3268 - Val Accuracy: 0.6825 - Best: 0.7225\n",
            "[cnn_only] Epoch 36 - Loss: 0.3388 - Val Accuracy: 0.6650 - Best: 0.7225\n",
            "[cnn_only] Epoch 37 - Loss: 0.3026 - Val Accuracy: 0.6675 - Best: 0.7225\n",
            "[cnn_only] Epoch 38 - Loss: 0.3112 - Val Accuracy: 0.6975 - Best: 0.7225\n",
            "[cnn_only] Epoch 39 - Loss: 0.2811 - Val Accuracy: 0.6725 - Best: 0.7225\n",
            "[cnn_only] Epoch 40 - Loss: 0.2793 - Val Accuracy: 0.7150 - Best: 0.7225\n",
            "[cnn_only] Epoch 41 - Loss: 0.2874 - Val Accuracy: 0.6875 - Best: 0.7225\n",
            "[cnn_only] Epoch 42 - Loss: 0.2757 - Val Accuracy: 0.6825 - Best: 0.7225\n",
            "[cnn_only] Epoch 43 - Loss: 0.2945 - Val Accuracy: 0.7075 - Best: 0.7225\n",
            "[cnn_only] Epoch 44 - Loss: 0.2757 - Val Accuracy: 0.7025 - Best: 0.7225\n",
            "[cnn_only] Epoch 45 - Loss: 0.2811 - Val Accuracy: 0.7100 - Best: 0.7225\n",
            "[cnn_only] Epoch 46 - Loss: 0.2684 - Val Accuracy: 0.7200 - Best: 0.7225\n",
            "[cnn_only] Epoch 47 - Loss: 0.2685 - Val Accuracy: 0.7025 - Best: 0.7225\n",
            "[cnn_only] Epoch 48 - Loss: 0.3002 - Val Accuracy: 0.6975 - Best: 0.7225\n",
            "[cnn_only] Epoch 49 - Loss: 0.2714 - Val Accuracy: 0.6975 - Best: 0.7225\n",
            "[cnn_only] Epoch 50 - Loss: 0.2764 - Val Accuracy: 0.6975 - Best: 0.7225\n"
          ]
        }
      ],
      "source": [
        "# Define loss and accuracy\n",
        "def compute_accuracy(preds, labels):\n",
        "    preds = (preds >= 0.5).float()\n",
        "    correct = (preds == labels).float().sum()\n",
        "    return correct / len(labels)\n",
        "\n",
        "# Training loop function\n",
        "def train_model(model, optimizer, train_loader, val_loader, mode=\"cnn_kmeans\", epochs=50):\n",
        "    loss_fn = nn.BCELoss()\n",
        "    best_acc = 0.0\n",
        "\n",
        "    for epoch in range(epochs):\n",
        "        model.train()\n",
        "        total_loss = 0\n",
        "        for xb, xc, yb in train_loader:\n",
        "            if mode == \"cnn_only\":\n",
        "                preds = model(xb).squeeze()\n",
        "            elif mode == \"mlp\":\n",
        "                preds = model(xc).squeeze()\n",
        "            else:  # cnn_kmeans\n",
        "                preds = model(xb, xc).squeeze()\n",
        "\n",
        "            loss = loss_fn(preds, yb)\n",
        "            optimizer.zero_grad()\n",
        "            loss.backward()\n",
        "            optimizer.step()\n",
        "            total_loss += loss.item()\n",
        "\n",
        "        # Validation\n",
        "        model.eval()\n",
        "        val_preds = []\n",
        "        val_targets = []\n",
        "        with torch.no_grad():\n",
        "            for xb, xc, yb in val_loader:\n",
        "                if mode == \"cnn_only\":\n",
        "                    preds = model(xb).squeeze()\n",
        "                elif mode == \"mlp\":\n",
        "                    preds = model(xc).squeeze()\n",
        "                else:\n",
        "                    preds = model(xb, xc).squeeze()\n",
        "                val_preds.append(preds)\n",
        "                val_targets.append(yb)\n",
        "\n",
        "        val_preds = torch.cat(val_preds)\n",
        "        val_targets = torch.cat(val_targets)\n",
        "        val_acc = ((val_preds >= 0.5).float() == val_targets).float().mean().item()\n",
        "        avg_loss = total_loss / len(train_loader)\n",
        "\n",
        "        # Print output for each epoch\n",
        "        print(f\"[{mode}] Epoch {epoch+1:02d} - Loss: {avg_loss:.4f} - Val Accuracy: {val_acc:.4f} - Best: {max(val_acc, best_acc):.4f}\", flush=True)\n",
        "\n",
        "        best_acc = max(best_acc, val_acc)\n",
        "\n",
        "# Define optimizers\n",
        "opt1 = torch.optim.Adam(model1.parameters(), lr=0.002)  # CNN+KMeans\n",
        "opt2 = torch.optim.Adam(model2.parameters(), lr=0.003)  # CNNOnly\n",
        "\n",
        "# Train both models\n",
        "print(\"Training CNN+KMeans model...\", flush=True)\n",
        "train_model(model1, opt1, train_loader, val_loader, mode=\"cnn_kmeans\", epochs=50)\n",
        "\n",
        "print(\"\\nTraining CNNOnly model...\", flush=True)\n",
        "train_model(model2, opt2, train_loader, val_loader, mode=\"cnn_only\", epochs=50)"
      ]
    },
    {
      "cell_type": "markdown",
      "metadata": {
        "id": "ErEPp0x6FcMn"
      },
      "source": [
        "## Generate final predictions and create submission file\n"
      ]
    },
    {
      "cell_type": "markdown",
      "metadata": {
        "id": "wHqs6oVcGiUO"
      },
      "source": [
        "This section combines the predictions from both trained models using a weighted average, then saves the final results in the Kaggle submission format.\n"
      ]
    },
    {
      "cell_type": "code",
      "execution_count": 24,
      "metadata": {
        "colab": {
          "base_uri": "https://localhost:8080/"
        },
        "id": "eBNJ0TSK6YIQ",
        "outputId": "c0a5b245-2400-47be-c196-a15f76cba528"
      },
      "outputs": [
        {
          "name": "stdout",
          "output_type": "stream",
          "text": [
            "Submission file 'Submission.csv' generated successfully.\n"
          ]
        }
      ],
      "source": [
        "# Generate predictions from both models\n",
        "with torch.no_grad():\n",
        "    preds1 = model1(X_test_seq_tensor, X_test_cluster_tensor).squeeze()\n",
        "    preds2 = model2(X_test_seq_tensor).squeeze()\n",
        "\n",
        "    alpha = 0.715\n",
        "    final_probs = (alpha * preds1 + (1 - alpha) * preds2).cpu().numpy()\n",
        "    final_preds = (final_probs >= 0.5).astype(int)\n",
        "\n",
        "# save the predictions into a CSV file\n",
        "submission_name = \"Submission.csv\"\n",
        "with open(submission_name, \"w\") as f:\n",
        "    f.write(\"Id,Bound\\n\")\n",
        "    for i, p in enumerate(final_preds):\n",
        "        f.write(f\"{i},{p}\\n\")\n",
        "\n",
        "print(f\"Submission file '{submission_name}' generated successfully.\")\n"
      ]
    }
  ],
  "metadata": {
    "colab": {
      "provenance": []
    },
    "kernelspec": {
      "display_name": "Python 3",
      "name": "python3"
    },
    "language_info": {
      "name": "python"
    }
  },
  "nbformat": 4,
  "nbformat_minor": 0
}
